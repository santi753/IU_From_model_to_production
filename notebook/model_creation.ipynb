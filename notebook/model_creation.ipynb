{
 "cells": [
  {
   "cell_type": "code",
   "execution_count": 1,
   "id": "3fc19387",
   "metadata": {},
   "outputs": [],
   "source": [
    "import pandas as pd"
   ]
  },
  {
   "cell_type": "code",
   "execution_count": 3,
   "id": "35161e5e",
   "metadata": {},
   "outputs": [],
   "source": [
    "file_path = r\"C:\\AAAsantiago\\IU Data Science\\Semestres\\Tercer semestre\\Project From Model to Production\\Project\\IU_From_model_to_production\\notebook\\data_split\\df_fraud_split_1.xls\"\n",
    "df = pd.read_csv(file_path)"
   ]
  },
  {
   "cell_type": "code",
   "execution_count": 6,
   "id": "be4a829f",
   "metadata": {},
   "outputs": [
    {
     "name": "stdout",
     "output_type": "stream",
     "text": [
      "(489433, 11)\n",
      "Index(['step', 'type', 'amount', 'nameOrig', 'oldbalanceOrg', 'newbalanceOrig',\n",
      "       'nameDest', 'oldbalanceDest', 'newbalanceDest', 'isFraud',\n",
      "       'isFlaggedFraud'],\n",
      "      dtype='object')\n",
      "<class 'pandas.core.frame.DataFrame'>\n",
      "RangeIndex: 489433 entries, 0 to 489432\n",
      "Data columns (total 11 columns):\n",
      " #   Column          Non-Null Count   Dtype  \n",
      "---  ------          --------------   -----  \n",
      " 0   step            489433 non-null  int64  \n",
      " 1   type            489433 non-null  object \n",
      " 2   amount          489433 non-null  float64\n",
      " 3   nameOrig        489433 non-null  object \n",
      " 4   oldbalanceOrg   489433 non-null  float64\n",
      " 5   newbalanceOrig  489433 non-null  float64\n",
      " 6   nameDest        489433 non-null  object \n",
      " 7   oldbalanceDest  489433 non-null  float64\n",
      " 8   newbalanceDest  489433 non-null  float64\n",
      " 9   isFraud         489433 non-null  int64  \n",
      " 10  isFlaggedFraud  489433 non-null  int64  \n",
      "dtypes: float64(5), int64(3), object(3)\n",
      "memory usage: 41.1+ MB\n",
      "None\n",
      "                step        amount  oldbalanceOrg  newbalanceOrig  \\\n",
      "count  489433.000000  4.894330e+05   4.894330e+05    4.894330e+05   \n",
      "mean      243.264144  1.773943e+05   8.319569e+05    8.533288e+05   \n",
      "std       142.081192  5.817722e+05   2.886037e+06    2.921952e+06   \n",
      "min         1.000000  0.000000e+00   0.000000e+00    0.000000e+00   \n",
      "25%       156.000000  1.332545e+04   0.000000e+00    0.000000e+00   \n",
      "50%       239.000000  7.424722e+04   1.391600e+04    0.000000e+00   \n",
      "75%       335.000000  2.078793e+05   1.067100e+05    1.431769e+05   \n",
      "max       743.000000  9.244552e+07   3.958504e+07    3.844183e+07   \n",
      "\n",
      "       oldbalanceDest  newbalanceDest        isFraud  isFlaggedFraud  \n",
      "count    4.894330e+05    4.894330e+05  489433.000000   489433.000000  \n",
      "mean     1.091104e+06    1.212955e+06       0.001291        0.000004  \n",
      "std      3.371439e+06    3.626421e+06       0.035911        0.002021  \n",
      "min      0.000000e+00    0.000000e+00       0.000000        0.000000  \n",
      "25%      0.000000e+00    0.000000e+00       0.000000        0.000000  \n",
      "50%      1.293456e+05    2.124455e+05       0.000000        0.000000  \n",
      "75%      9.402246e+05    1.107711e+06       0.000000        0.000000  \n",
      "max      3.215898e+08    3.555534e+08       1.000000        1.000000  \n"
     ]
    }
   ],
   "source": [
    "print(df.shape)\n",
    "print(df.columns)\n",
    "print(df.info())\n",
    "print(df.describe())"
   ]
  }
 ],
 "metadata": {
  "kernelspec": {
   "display_name": ".venv",
   "language": "python",
   "name": "python3"
  },
  "language_info": {
   "codemirror_mode": {
    "name": "ipython",
    "version": 3
   },
   "file_extension": ".py",
   "mimetype": "text/x-python",
   "name": "python",
   "nbconvert_exporter": "python",
   "pygments_lexer": "ipython3",
   "version": "3.12.10"
  }
 },
 "nbformat": 4,
 "nbformat_minor": 5
}
